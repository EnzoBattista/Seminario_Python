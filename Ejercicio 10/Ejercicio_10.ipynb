{
 "cells": [
  {
   "cell_type": "code",
   "execution_count": 65,
   "id": "67526c29",
   "metadata": {},
   "outputs": [
    {
     "name": "stdout",
     "output_type": "stream",
     "text": [
      "['Agustin', 'Alan', 'Andrs', 'Ariadna', 'Bautista', 'CAROLINA', 'CESAR', 'David', 'Diego', 'Dolores', 'DYLAN', 'ELIANA', 'Emanuel', 'Fabin', 'Facundo', 'Facundo', 'FEDERICO', 'FEDERICO', 'GONZALO', 'Gregorio', 'Ignacio', 'Jonathan', 'Jonathan', 'Jorge', 'JOSE', 'JUAN', 'Juan', 'Juan', 'Julian', 'Julieta', 'LAUTARO', 'Leonel', 'LUIS', 'Luis', 'Marcos', 'Mara', 'MATEO', 'Matias', 'Nicols', 'NICOLS', 'Noelia', 'Pablo', 'Priscila', 'TOMAS', 'Toms', 'Ulises', 'Yanina']\n"
     ]
    }
   ],
   "source": [
    "import string\n",
    "letras = string.ascii_letters\n",
    "with open(\"nombres_1.txt\",encoding=\"utf8\") as file_object:\n",
    "    nombres = file_object.read().split(\",\\n\")\n",
    "    for c in range(len(nombres)):\n",
    "        for d in nombres[c]:\n",
    "            if d not in letras:\n",
    "                nombres[c]=nombres[c].replace(d,\"\") \n",
    "    print(nombres)"
   ]
  },
  {
   "cell_type": "markdown",
   "id": "352c1bfe",
   "metadata": {},
   "source": [
    "### En este primer caso, abro el archivo nombre de tipo texto y evaluo dentro de cada posicion del string para eliminar todo contenido que no sea compatible con una letra."
   ]
  },
  {
   "cell_type": "code",
   "execution_count": 52,
   "id": "2f32a042",
   "metadata": {},
   "outputs": [
    {
     "name": "stdout",
     "output_type": "stream",
     "text": [
      "[81, 60, 72, 24, 15, 91, 12, 70, 29, 42, 16, 3, 35, 67, 10, 57, 11, 69, 12, 77, 13, 86, 48, 65, 51, 41, 87, 43, 10, 87, 91, 15, 44, 85, 73, 37, 42, 95, 18, 7, 74, 60, 9, 65, 93, 63, 74]\n"
     ]
    }
   ],
   "source": [
    "with open(\"eval1.txt\", encoding=\"utf8\") as file_evaluaciones1:\n",
    "    evaluacion_1 = file_evaluaciones1.read().split(',\\n')\n",
    "    for c in range(len(evaluacion_1)):\n",
    "        for d in evaluacion_1[c]:\n",
    "            if d not in string.digits:\n",
    "                evaluacion_1[c]=evaluacion_1[c].replace(d,\"\")\n",
    "        evaluacion_1[c]=int(evaluacion_1[c])\n",
    "    print(evaluacion_1)"
   ]
  },
  {
   "cell_type": "markdown",
   "id": "858f46f2",
   "metadata": {},
   "source": [
    "### En este segundo caso hago de manera muy similar a como realice con los nombres, solo que evaluo por cada posicion para dejar los numeros y convertir dichos numeros para la lista"
   ]
  },
  {
   "cell_type": "code",
   "execution_count": 54,
   "id": "4f062c4d",
   "metadata": {},
   "outputs": [
    {
     "name": "stdout",
     "output_type": "stream",
     "text": [
      "[30, 95, 28, 84, 84, 43, 66, 51, 4, 11, 58, 10, 13, 34, 96, 71, 86, 37, 64, 13, 8, 87, 14, 14, 49, 27, 55, 69, 77, 59, 57, 40, 96, 24, 30, 73, 95, 19, 47, 15, 31, 39, 15, 74, 33, 57, 10]\n"
     ]
    }
   ],
   "source": [
    "with open(\"eval2.txt\", encoding=\"utf8\") as file_evaluaciones2:\n",
    "    evaluacion_2 = file_evaluaciones2.read().split(',\\n')\n",
    "    for c in range(len(evaluacion_2)):\n",
    "        for d in evaluacion_2[c]:\n",
    "            if d not in string.digits:\n",
    "                evaluacion_2[c]=evaluacion_2[c].replace(d,\"\")\n",
    "        evaluacion_2[c]=int(evaluacion_2[c])\n",
    "    print(evaluacion_2)"
   ]
  },
  {
   "cell_type": "markdown",
   "id": "14f37ead",
   "metadata": {},
   "source": [
    "### En este tercer caso hago lo mismo que en el segundo caso"
   ]
  },
  {
   "cell_type": "code",
   "execution_count": 55,
   "id": "adda4b18",
   "metadata": {},
   "outputs": [
    {
     "name": "stdout",
     "output_type": "stream",
     "text": [
      "[111, 155, 100, 108, 99, 134, 78, 121, 33, 53, 74, 13, 48, 101, 106, 128, 97, 106, 76, 90, 21, 173, 62, 79, 100, 68, 142, 112, 87, 146, 148, 55, 140, 109, 103, 110, 137, 114, 65, 22, 105, 99, 24, 139, 126, 120, 84]\n"
     ]
    }
   ],
   "source": [
    "suma_de_notas=list(map(lambda x,y: x + y, evaluacion_1, evaluacion_2))\n",
    "print(suma_de_notas)"
   ]
  },
  {
   "cell_type": "markdown",
   "id": "63192c01",
   "metadata": {},
   "source": [
    "### En este cuarto caso genero una lista nueva de suma de notas utilizando la funcion map"
   ]
  },
  {
   "cell_type": "code",
   "execution_count": 69,
   "id": "014cd735",
   "metadata": {},
   "outputs": [
    {
     "name": "stdout",
     "output_type": "stream",
     "text": [
      "{'Agustin': 111, 'Alan': 155, 'Andrs': 100, 'Ariadna': 108, 'Bautista': 99, 'CAROLINA': 134, 'CESAR': 78, 'David': 121, 'Diego': 33, 'Dolores': 53, 'DYLAN': 74, 'ELIANA': 13, 'Emanuel': 48, 'Fabin': 101, 'Facundo': 128, 'FEDERICO': 106, 'GONZALO': 76, 'Gregorio': 90, 'Ignacio': 21, 'Jonathan': 62, 'Jorge': 79, 'JOSE': 100, 'JUAN': 68, 'Juan': 112, 'Julian': 87, 'Julieta': 146, 'LAUTARO': 148, 'Leonel': 55, 'LUIS': 140, 'Luis': 109, 'Marcos': 103, 'Mara': 110, 'MATEO': 137, 'Matias': 114, 'Nicols': 65, 'NICOLS': 22, 'Noelia': 105, 'Pablo': 99, 'Priscila': 24, 'TOMAS': 139, 'Toms': 126, 'Ulises': 120, 'Yanina': 84}\n"
     ]
    }
   ],
   "source": [
    "diccionario = {}\n",
    "for i in range(len(nombres)):\n",
    "    nombre=nombres[i]\n",
    "    nota=suma_de_notas[i]\n",
    "    diccionario[nombre]=nota\n",
    "print(diccionario)    \n"
   ]
  },
  {
   "cell_type": "markdown",
   "id": "ea11323b",
   "metadata": {},
   "source": [
    "### En este quinto caso recorri la lista de nombres (con mismo rango que la de notas) para ir agregando los datos de manera secuencial al diccionario "
   ]
  },
  {
   "cell_type": "code",
   "execution_count": 71,
   "id": "492c5352",
   "metadata": {},
   "outputs": [
    {
     "name": "stdout",
     "output_type": "stream",
     "text": [
      "93.09302325581395\n"
     ]
    }
   ],
   "source": [
    "notatotal=0\n",
    "promedio=0\n",
    "for r in diccionario:\n",
    "    notatotal+=diccionario[r] \n",
    "promedio=notatotal/len(diccionario)\n",
    "print(promedio)"
   ]
  },
  {
   "cell_type": "markdown",
   "id": "79c082f3",
   "metadata": {},
   "source": [
    "### En este sexto caso recorro el diccionario y voy sumando a una variable total las notas, para luego sacar el promedio,y dividir las notas totales por el rango (cantidad de alumnos)"
   ]
  },
  {
   "cell_type": "code",
   "execution_count": 75,
   "id": "23fcfff0",
   "metadata": {},
   "outputs": [
    {
     "name": "stdout",
     "output_type": "stream",
     "text": [
      "(Nombre: CESAR) Nota: 78\n",
      "(Nombre: Diego) Nota: 33\n",
      "(Nombre: Dolores) Nota: 53\n",
      "(Nombre: DYLAN) Nota: 74\n",
      "(Nombre: ELIANA) Nota: 13\n",
      "(Nombre: Emanuel) Nota: 48\n",
      "(Nombre: GONZALO) Nota: 76\n",
      "(Nombre: Gregorio) Nota: 90\n",
      "(Nombre: Ignacio) Nota: 21\n",
      "(Nombre: Jonathan) Nota: 62\n",
      "(Nombre: Jorge) Nota: 79\n",
      "(Nombre: JUAN) Nota: 68\n",
      "(Nombre: Julian) Nota: 87\n",
      "(Nombre: Leonel) Nota: 55\n",
      "(Nombre: Nicols) Nota: 65\n",
      "(Nombre: NICOLS) Nota: 22\n",
      "(Nombre: Priscila) Nota: 24\n",
      "(Nombre: Yanina) Nota: 84\n"
     ]
    }
   ],
   "source": [
    "for x in diccionario:\n",
    "    if (diccionario[x] < promedio): \n",
    "        print(f\"(Nombre: {x}) Nota: {diccionario[x]}\")\n",
    "        \n",
    "    "
   ]
  },
  {
   "cell_type": "markdown",
   "id": "d1bb6177",
   "metadata": {},
   "source": [
    "### En este ultimo caso, recorro nuevamente el diccionario para informar los alumnos que tienen nota menor al promedio"
   ]
  }
 ],
 "metadata": {
  "kernelspec": {
   "display_name": "Python 3 (ipykernel)",
   "language": "python",
   "name": "python3"
  },
  "language_info": {
   "codemirror_mode": {
    "name": "ipython",
    "version": 3
   },
   "file_extension": ".py",
   "mimetype": "text/x-python",
   "name": "python",
   "nbconvert_exporter": "python",
   "pygments_lexer": "ipython3",
   "version": "3.10.0"
  }
 },
 "nbformat": 4,
 "nbformat_minor": 5
}
